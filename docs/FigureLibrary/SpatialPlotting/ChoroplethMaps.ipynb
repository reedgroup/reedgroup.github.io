{
 "cells": [
  {
   "cell_type": "markdown",
   "id": "f6552a8f",
   "metadata": {},
   "source": [
    "# Choropleth maps\n",
    "\n",
    "### Introduction\n",
    "In this training, we plot univariate and bivariate choropleth maps in Python. Refer to this [blog post](https://waterprogramming.wordpress.com/2022/09/08/bivariate-choropleth-maps/) for instructions on data and plotting. For code and data to plot the following images, refer to this [repository](https://github.com/ahamilton144/WPB-bivariate-choropleth-maps/tree/main) \n",
    "\n",
    "\n",
    "#### Univariate maps\n",
    "\n",
    "<img src=\"SupportingFiles/univariate.png\"\n",
    "     alt=\"Univariate Map\"\n",
    "     width=\"500\">\n",
    "\n",
    "#### Bivariate maps\n",
    "\n",
    "<img src=\"SupportingFiles/bivariate_zoom-2.png\"\n",
    "     alt=\"Bivariate Map\"\n",
    "     width=\"500\">"
   ]
  },
  {
   "cell_type": "markdown",
   "id": "b628834e",
   "metadata": {},
   "source": []
  }
 ],
 "metadata": {
  "language_info": {
   "name": "python"
  }
 },
 "nbformat": 4,
 "nbformat_minor": 5
}

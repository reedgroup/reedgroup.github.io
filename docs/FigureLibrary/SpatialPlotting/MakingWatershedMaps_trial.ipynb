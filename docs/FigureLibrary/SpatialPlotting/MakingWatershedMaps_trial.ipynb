{
 "cells": [
  {
   "cell_type": "markdown",
   "id": "c681d943",
   "metadata": {},
   "source": [
    "# Making Watershed Maps\n",
    "\n",
    "### Introduction\n",
    "\n",
    "Watershed maps are generally plotted for study area figures in the manuscripts. These maps show the location of the study area on a map along with data on reservoirs, and others. In this sub-page, we shall focus on plotting basemaps, shapefiles and reservoirs in Python. This page is based on [blog post](https://waterprogramming.wordpress.com/2017/04/03/making-watershed-maps-in-python/) by Julie. The data is used from this [repository](https://github.com/julianneq/RedRiver_RivalFramings/tree/master)\n",
    "\n",
    "#### Plotting basemap\n",
    "\n",
    "Plot is shown with the extent of the Red River basin in East Asia. The first step is to create a basemap by specifying the bounding box using the lower and upper latitudes and longitudes of the region. You can specify the resolution (‘f’ = full, ‘h’ =high, ‘i’ = intermediate, ‘l’ = low, ‘c’ = crude), and you can even use different ArcGIS images for the [background](https://basemaptutorial.readthedocs.io/en/latest/backgrounds.html). The example below uses ‘World_Shaded_Relief’. It’s also possible to add a lot of features such as rivers, countries, coastlines, counties, etc. The following example shows countries and rivers. The argument ‘zorder’ specifies the order of the layering from 1 to n, where 1 is the bottom layer and n the top."
   ]
  }
 ],
 "metadata": {
  "language_info": {
   "name": "python"
  }
 },
 "nbformat": 4,
 "nbformat_minor": 5
}

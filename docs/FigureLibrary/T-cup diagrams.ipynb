{
 "cells": [
  {
   "cell_type": "markdown",
   "id": "e01545ff",
   "metadata": {},
   "source": [
    "# T-cup diagrams\n",
    "\n",
    "### Introduction\n",
    "\n",
    "T-cup diagrams are generally used to represent storages in the reservoir. An example of T-cup diagram is shown below\n",
    "\n",
    "<img src=\"sample_T-cup.png\">"
   ]
  },
  {
   "cell_type": "markdown",
   "id": "c1be5d57",
   "metadata": {},
   "source": [
    "In the T-cup sample figure shown, the blue color filling shows the level of the water in the reservoir which is around 60\\% of the capacity. An example usage of these figures are the live storage volumes representation on the [map](https://www.usbr.gov/uc/water/basin/index.html). The fraction of water fill is in comparison to the total capacity of the reservoir. In the exploratory experiments, the question is how we show different states of the world or an ensemble of scenarios. First I define a function to plot as shown in the above figure and then we shall make edits to this function for a dataset assuming a thousand scenarios."
   ]
  },
  {
   "cell_type": "code",
   "execution_count": 25,
   "id": "354ef102",
   "metadata": {},
   "outputs": [],
   "source": [
    "import pandas as pd\n",
    "import numpy as np\n",
    "from matplotlib import pyplot as plt\n",
    "import matplotlib.cm as cm\n",
    "import matplotlib as mpl\n"
   ]
  },
  {
   "cell_type": "markdown",
   "id": "118b7ffb",
   "metadata": {},
   "source": [
    "### Functions for flexible parallel coordinatessample T-cup plot"
   ]
  },
  {
   "cell_type": "markdown",
   "id": "788e00da",
   "metadata": {},
   "source": [
    "First, let's use a function to plot the sample T-cup figure shown above for a single case say for a median or current value of storage. This function takes the single value as the storage level, along with the x and y-limits of the plot. The T-cup includes drawing a trapezoid in two steps: a) rectangle b)filling the corners as shown in the figure below\n",
    "\n",
    "<img src=\"Steps_T-cup.png\">\n",
    "\n",
    "Two different xlimits and ylimits are defined. xlim and ylim called in the function are the limits of the plot whereas inside the function the limits are defined for the trapezoid"
   ]
  },
  {
   "cell_type": "code",
   "execution_count": 26,
   "id": "ded3c660",
   "metadata": {},
   "outputs": [
    {
     "data": {
      "image/png": "[encoded data removed]",
      "text/plain": [
       "<Figure size 288x216 with 1 Axes>"
      ]
     },
     "metadata": {
      "needs_background": "light"
     },
     "output_type": "display_data"
    }
   ],
   "source": [
    "#function to make teacups\n",
    "def med_make_teacups(hist_median, xlim, ylim):\n",
    "    '''hist_median is the storage level of the lake/reservoir\n",
    "    xlim and ylim are limits of the plot'''\n",
    "    # make the plot\n",
    "\n",
    "    #define limits for trapezoid\n",
    "    x1 = [16.8955, 43.15]\n",
    "    x2 = [129.45, 155.70]\n",
    "\n",
    "    fig = plt.figure(figsize=(4, 3))\n",
    "\n",
    "    ax = fig.gca()\n",
    "\n",
    "    #plotting rectangle as in fig (a)\n",
    "    ax.fill_between([x1[1], x2[0]], [hist_median, hist_median], [0, 0])\n",
    "\n",
    "    # fill corners as show in fig (b)\n",
    "    ax.fill_between([x1[0], x1[1]], [hist_median, hist_median],\n",
    "                    [hist_median, 0], color='#1f77b4', edgecolor='none')\n",
    "\n",
    "    ax.fill_between([x2[0], x2[1]], [hist_median, hist_median],\n",
    "                    [0, hist_median], color='#1f77b4', edgecolor='none')\n",
    "\n",
    "    ax.set_xlim([0,xlim])\n",
    "    ax.set_ylim([0,ylim+1])\n",
    "\n",
    "    #draw the borders of the trapezoid\n",
    "    ax.plot([0,43.15], [86.3,0], c='k')\n",
    "    ax.plot([43.15, 129.45], [0, 0], c='k')\n",
    "    ax.plot([129.45, 172.6], [0, 86.3], c='k')\n",
    "    ax.plot([0,172.6], [86.3, 86.3], c='k')\n",
    "    \n",
    "    ax.axes.get_xaxis().set_visible(False)\n",
    "    #save fig in desired format\n",
    "    plt.savefig('T-cup_med.png', bbox_inches='tight')\n",
    "\n",
    "\n",
    "#calling the function\n",
    "med_make_teacups(54.8, 172.6, 86.3)\n"
   ]
  },
  {
   "cell_type": "markdown",
   "id": "ba61aa75",
   "metadata": {},
   "source": [
    "Here, we define a function to determine the x coordinates of the trapezoid for the input data reservoir levels. These coordinates were defined for the sample T-cup above randomly to plot a trapezoid."
   ]
  },
  {
   "cell_type": "code",
   "execution_count": 27,
   "id": "87649e57",
   "metadata": {},
   "outputs": [],
   "source": [
    "def find_x_coords(yvalues):\n",
    "    '''\n",
    "    returns x coordinates for teacup plot\n",
    "\n",
    "    :param yvalues:         numpy array of reservoir levels\n",
    "    :return:\n",
    "        x1:                 array of right side of teacup\n",
    "        x2:                 array of left side of teacup\n",
    "    '''\n",
    "\n",
    "    x1 =  np.zeros(len(yvalues))\n",
    "    x2 = np.zeros(len(yvalues))\n",
    "\n",
    "    for i in range(len(yvalues)):\n",
    "        x1[i] = (max(yvalues) - yvalues[i])/2\n",
    "        x2[i] = 1.5 * max(yvalues) + yvalues[i]/2\n",
    "\n",
    "    return x1, x2"
   ]
  },
  {
   "cell_type": "markdown",
   "id": "39c3882a",
   "metadata": {},
   "source": [
    "The next function gets the color for each percentile in the ensemble to represent the storage colored differently for different percentiles of the ensemble. The historical median and critical values of the reservoir are input to the function to compare these with the ensemble. The data is read as csv file inside the function that contains 99 rows for each percentile varying from 1 to 99 and 1000 columns for each scenario in the ensemble. "
   ]
  },
  {
   "cell_type": "code",
   "execution_count": 28,
   "id": "15588e5b",
   "metadata": {},
   "outputs": [
    {
     "data": {
      "image/png": "[encoded data removed]",
      "text/plain": [
       "<Figure size 360x216 with 2 Axes>"
      ]
     },
     "metadata": {
      "needs_background": "light"
     },
     "output_type": "display_data"
    }
   ],
   "source": [
    "def make_teacups(res_abbrev, hist_median, crit):\n",
    "    '''\n",
    "    Plots teacup diagrams for a reservoir for an ensemble\n",
    "\n",
    "    :param res_abbrev:                      str, abbrev of res name (BM)\n",
    "    :param crit:                            float, low storage level to plot as a benchmark\n",
    "    '''\n",
    "\n",
    "    baseline_rels = np.loadtxt(res_abbrev + '_realizationPercentiles_baseline_run_1_to_99.csv',\n",
    "                               delimiter=',')\n",
    "    baseline_means = np.mean(baseline_rels, axis=1)/10000\n",
    "\n",
    "    # add zeros to each array\n",
    "    baseline_means = np.hstack([np.zeros(1), baseline_means])\n",
    "\n",
    "    baseline_x1, baseline_x2 = find_x_coords(baseline_means)\n",
    "\n",
    "    # copy the baseline means and set them as the historical, then add the historical median to the middle entry\n",
    "    # This overly complicated method of adding the historical median is done to make plotting the teacups easier\n",
    "    hist_percentiles = baseline_means\n",
    "    hist_percentiles[9] = hist_median\n",
    "\n",
    "    # make the plot\n",
    "    fig = plt.figure(figsize=(5, 3))\n",
    "\n",
    "    ax = fig.gca()\n",
    "    for i, p in enumerate(range(0, 99)):\n",
    "        # make base plot\n",
    "        ax.fill_between([baseline_x1[i], baseline_x2[i]], [baseline_means[i], baseline_means[i]],\n",
    "                        [baseline_means[i + 1], baseline_means[i + 1]], color=cm.BrBG(p / 100), edgecolor='none')\n",
    "\n",
    "        # fill corners\n",
    "        ax.fill_between([baseline_x1[i], baseline_x1[i + 1]], [baseline_means[i + 1], baseline_means[i + 1]],\n",
    "                        [baseline_means[i], baseline_means[i + 1]], color=cm.BrBG(p / 100), edgecolor='none')\n",
    "\n",
    "        ax.fill_between([baseline_x2[i], baseline_x2[i + 1]], [baseline_means[i + 1], baseline_means[i + 1]],\n",
    "                        [baseline_means[i], baseline_means[i + 1]], color=cm.BrBG(p / 100), edgecolor='none')\n",
    "\n",
    "    hist_mean_x1, hist_mean_x2 = find_x_coords(hist_percentiles)\n",
    "\n",
    "    crit_mean_x1, crit_mean_x2 = find_x_coords([0, crit, max(baseline_means)])\n",
    "\n",
    "    #plot historical line \n",
    "    ax.plot([hist_mean_x1[9], hist_mean_x2[9] ], np.ones(2) * hist_percentiles[9],\n",
    "            linewidth=3,\n",
    "            color='darkblue', linestyle='--')\n",
    "    #plot critical line\n",
    "    ax.plot([((max(baseline_means) - crit) / 2), (1.5 * max(baseline_means) + crit / 2)],\n",
    "            np.ones(2) * crit, linewidth=3,\n",
    "            color='hotpink', linestyle=':')\n",
    "\n",
    "\n",
    "    ax.set_xlim([0, 2*max(baseline_means)])\n",
    "    ax.set_ylim([0, max(baseline_means)])\n",
    "\n",
    "    ax.axes.get_xaxis().set_visible(False)\n",
    "    #add color bar as legend and include percentiles\n",
    "    cbar = fig.colorbar(mpl.cm.ScalarMappable(norm=mpl.colors.Normalize(0, 1), cmap='BrBG'),\n",
    "             ax=ax, ticks=[0,0.5,1], orientation='vertical', label='Ensemble Percentile')\n",
    "    cbar.set_ticks([0,0.5,1], labels=['1$^{st}$','50$^{th}$','99$^{th}$'])\n",
    "\n",
    "    plt.savefig(res_abbrev + '_teacups.png', bbox_inches='tight')\n",
    "\n",
    "make_teacups('BM', 54.8, 20.8)"
   ]
  },
  {
   "cell_type": "markdown",
   "id": "92dd5e84",
   "metadata": {},
   "source": [
    "### Conclusion"
   ]
  },
  {
   "cell_type": "markdown",
   "id": "83fe5986",
   "metadata": {},
   "source": [
    "This example should provide a guideline to plot reserovir storages for an ensemble varying based on percentile values. If you have any suggestions to improve this style of figure, feel free to open a GitHub Issue or contribute directly to [this page](https://github.com/reedgroup/reedgroup.github.io/blob/main/docs/FigureLibrary/T-cupdiagrams.ipynb) in the Reed Group Lab Manual repository. "
   ]
  }
 ],
 "metadata": {
  "kernelspec": {
   "display_name": "Python 3 (ipykernel)",
   "language": "python",
   "name": "python3"
  },
  "language_info": {
   "codemirror_mode": {
    "name": "ipython",
    "version": 3
   },
   "file_extension": ".py",
   "mimetype": "text/x-python",
   "name": "python",
   "nbconvert_exporter": "python",
   "pygments_lexer": "ipython3",
   "version": "3.9.12"
  }
 },
 "nbformat": 4,
 "nbformat_minor": 5
}
